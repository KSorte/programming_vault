{
 "cells": [
  {
   "cell_type": "code",
   "execution_count": 11,
   "metadata": {},
   "outputs": [],
   "source": [
    "from collections import defaultdict"
   ]
  },
  {
   "cell_type": "code",
   "execution_count": 13,
   "metadata": {},
   "outputs": [
    {
     "name": "stdout",
     "output_type": "stream",
     "text": [
      "blitz\n",
      "apple\n",
      "eat\n",
      "tiger\n",
      "regal\n",
      "lamb\n"
     ]
    }
   ],
   "source": [
    "## Create test cases for problem one.\n",
    "\n",
    "list_of_strings = [\"blitz\", \"apple\", \"eat\", \"tiger\", \"regal\", \"lamb\"]\n",
    "\n",
    "for word in list_of_strings:\n",
    "    print(word)"
   ]
  },
  {
   "cell_type": "code",
   "execution_count": 12,
   "metadata": {},
   "outputs": [
    {
     "name": "stdout",
     "output_type": "stream",
     "text": [
      "e eat\n",
      "t tiger\n",
      "r regal\n",
      "l lamb\n",
      "combined_word appleatigeregalamblitz\n"
     ]
    }
   ],
   "source": [
    "## Write an algorithm that pieces together these strings into one such that the first character is 'a', last is 'z' and all the middle\n",
    "# strings are joined with common letters.\n",
    "\n",
    "# O(n) space.\n",
    "char_to_strings = {}\n",
    "\n",
    "# O(n) time\n",
    "for word in list_of_strings:\n",
    "    if word[0] == 'a':\n",
    "        first_word = word\n",
    "        continue\n",
    "    if word[-1] == 'z':\n",
    "        last_word = word\n",
    "        continue\n",
    "\n",
    "    char_to_strings[word[0]] = word\n",
    "\n",
    "for letter, word in char_to_strings.items():\n",
    "    print(letter, word)\n",
    "\n",
    "## Algorithm O(n) time\n",
    "combined_word = first_word\n",
    "for i in range(1, len(list_of_strings) - 1):\n",
    "    char_at_end_of_word = combined_word[-1]\n",
    "    combined_word += char_to_strings[char_at_end_of_word][1 :]\n",
    "\n",
    "combined_word += last_word[1:]\n",
    "print(f'combined_word', combined_word)\n",
    "\n",
    "# O(n) space and o(n) time complexity"
   ]
  },
  {
   "cell_type": "code",
   "execution_count": 14,
   "metadata": {},
   "outputs": [
    {
     "name": "stdout",
     "output_type": "stream",
     "text": [
      "Iterations needed =  2\n",
      "13\n",
      "Iterations needed =  15\n",
      "418\n",
      "Iterations needed =  3\n",
      "301\n",
      "Iterations needed =  56\n",
      "1003\n",
      "Limit of  10000 reached\n",
      "-1\n"
     ]
    }
   ],
   "source": [
    "## Problem 2.\n",
    "## Sum the digits of these numbers and add to the sum to the numbers.\n",
    "## Continually doing so both numbers will generate a trajectory for both, which would intersect somewhere.\n",
    "# Find the intersection point and return it.\n",
    "num1 = 256\n",
    "num2 = 278\n",
    "\n",
    "def get_sum_of_digits(num):\n",
    "    sum = 0\n",
    "    while(num != 0):\n",
    "        sum += num % 10\n",
    "        num = num // 10\n",
    "\n",
    "    return sum\n",
    "\n",
    "def get_intersection_point(num1, num2, limit) :\n",
    "    num1_traj = [num1]\n",
    "    num2_traj = [num2]\n",
    "    count = 0\n",
    "    while(count < limit) :\n",
    "        if num1 == num2:\n",
    "            return num1\n",
    "\n",
    "        if num1 < num2:\n",
    "            num1_traj.append(num1 + get_sum_of_digits(num1))\n",
    "            num1 = num1_traj[-1]\n",
    "            print('f num1 update to ', num1)\n",
    "            if num1 < num2 and num1 in num2_traj:\n",
    "                return num1\n",
    "\n",
    "            if num1 > num2:\n",
    "                num2_traj = []\n",
    "\n",
    "        if num2 < num1:\n",
    "            num2_traj.append(num2 + get_sum_of_digits(num2))\n",
    "            num2 = num2_traj[-1]\n",
    "            print('f num2 update to ', num2)\n",
    "            if num2 < num1 and num2 in num1_traj:\n",
    "                return num2\n",
    "\n",
    "            if num2 > num1:\n",
    "                num1_traj = []\n",
    "        count += 1\n",
    "\n",
    "    return -1\n",
    "\n",
    "def get_intersection_point_modular(num1, num2, limit) :\n",
    "    count = 0\n",
    "    while(count < limit) :\n",
    "        if num1 == num2:\n",
    "            print(\"Iterations needed = \", count + 1)\n",
    "            return num1\n",
    "\n",
    "        if num1 < num2:\n",
    "            num1 += get_sum_of_digits(num1)\n",
    "\n",
    "        if num2 < num1:\n",
    "            num2 += get_sum_of_digits(num2)\n",
    "        count += 1\n",
    "\n",
    "    print(\"Limit of \", limit, \"reached\")\n",
    "    return -1\n",
    "\n",
    "print(get_intersection_point_modular(11, 13, 500))\n",
    "print(get_intersection_point_modular(256, 278, 500))\n",
    "print(get_intersection_point_modular(301, 280, 500))\n",
    "print(get_intersection_point_modular(310, 280, 1600))\n",
    "print(get_intersection_point_modular(3, 5, 10000))"
   ]
  },
  {
   "cell_type": "code",
   "execution_count": 15,
   "metadata": {},
   "outputs": [
    {
     "name": "stdout",
     "output_type": "stream",
     "text": [
      "['a', 'f', 'i', 'o', ',', 's', 'g', 'o', 'r', 'g']\n"
     ]
    }
   ],
   "source": [
    "str = \"afio,sgorg\"\n",
    "\n",
    "# list = str.split(',')\n",
    "\n",
    "print(list(str))"
   ]
  }
 ],
 "metadata": {
  "kernelspec": {
   "display_name": "Python 3",
   "language": "python",
   "name": "python3"
  },
  "language_info": {
   "codemirror_mode": {
    "name": "ipython",
    "version": 3
   },
   "file_extension": ".py",
   "mimetype": "text/x-python",
   "name": "python",
   "nbconvert_exporter": "python",
   "pygments_lexer": "ipython3",
   "version": "3.10.12"
  }
 },
 "nbformat": 4,
 "nbformat_minor": 2
}
